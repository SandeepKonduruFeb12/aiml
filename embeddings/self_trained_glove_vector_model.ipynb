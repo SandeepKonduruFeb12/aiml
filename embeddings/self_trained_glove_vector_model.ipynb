{
  "nbformat": 4,
  "nbformat_minor": 0,
  "metadata": {
    "colab": {
      "provenance": [],
      "include_colab_link": true
    },
    "kernelspec": {
      "name": "python3",
      "display_name": "Python 3"
    },
    "language_info": {
      "name": "python"
    }
  },
  "cells": [
    {
      "cell_type": "markdown",
      "metadata": {
        "id": "view-in-github",
        "colab_type": "text"
      },
      "source": [
        "<a href=\"https://colab.research.google.com/github/SandeepKonduruFeb12/aiml/blob/master/embeddings/self_trained_glove_vector_model.ipynb\" target=\"_parent\"><img src=\"https://colab.research.google.com/assets/colab-badge.svg\" alt=\"Open In Colab\"/></a>"
      ]
    },
    {
      "cell_type": "code",
      "execution_count": null,
      "metadata": {
        "colab": {
          "base_uri": "https://localhost:8080/"
        },
        "id": "I78nIqLdpTNf",
        "outputId": "44af0d30-bc0f-4c94-edaa-e444c9acb026"
      },
      "outputs": [
        {
          "output_type": "stream",
          "name": "stdout",
          "text": [
            "Collecting glove-python3\n",
            "  Downloading glove_python3-0.1.0.tar.gz (326 kB)\n",
            "\u001b[2K     \u001b[90m━━━━━━━━━━━━━━━━━━━━━━━━━━━━━━━━━━━━━━━━\u001b[0m \u001b[32m327.0/327.0 kB\u001b[0m \u001b[31m9.5 MB/s\u001b[0m eta \u001b[36m0:00:00\u001b[0m\n",
            "\u001b[?25h  Preparing metadata (setup.py) ... \u001b[?25l\u001b[?25hdone\n",
            "Requirement already satisfied: numpy in /usr/local/lib/python3.10/dist-packages (from glove-python3) (1.26.4)\n",
            "Requirement already satisfied: scipy in /usr/local/lib/python3.10/dist-packages (from glove-python3) (1.13.1)\n",
            "Building wheels for collected packages: glove-python3\n",
            "  Building wheel for glove-python3 (setup.py) ... \u001b[?25l\u001b[?25hdone\n",
            "  Created wheel for glove-python3: filename=glove_python3-0.1.0-cp310-cp310-linux_x86_64.whl size=1065514 sha256=45d0ac52957006be6576a038ab190095b0c0069a68025fff799c3621b23a8fb5\n",
            "  Stored in directory: /root/.cache/pip/wheels/fe/2f/79/34314d44a0907e90e323c8c182ec23f126eb460829e02d98cf\n",
            "Successfully built glove-python3\n",
            "Installing collected packages: glove-python3\n",
            "Successfully installed glove-python3-0.1.0\n"
          ]
        }
      ],
      "source": [
        "!pip install glove-python3\n",
        "import gensim.downloader as api\n",
        "from glove import Corpus, Glove\n"
      ]
    },
    {
      "cell_type": "code",
      "source": [
        "dataset = api.load('text8')\n",
        "sentences = [sentence for sentence in dataset]\n",
        "corpus = Corpus()\n",
        "corpus.fit(sentences, window=10)\n",
        "glove = Glove(no_components=50, learning_rate=0.05)\n",
        "glove.fit(corpus.matrix, epochs=30, no_threads=4, verbose=True)\n",
        "glove.add_dictionary(corpus.dictionary)\n",
        "glove.save('glove_model.model')\n",
        "glove = Glove.load('glove_model.model')\n",
        "word = 'king'\n",
        "if word in glove.dictionary:\n",
        "    embedding = glove.word_vectors[glove.dictionary[word]]\n",
        "    print(f'Embedding for the word \"{word}\":\\n', embedding)\n",
        "else:\n",
        "    print(f'Word \"{word}\" not found in the glove dictionary.')"
      ],
      "metadata": {
        "colab": {
          "base_uri": "https://localhost:8080/"
        },
        "id": "gaX8focrpXEF",
        "outputId": "c3f5b3ba-1226-43f2-a638-260e0b429a31"
      },
      "execution_count": null,
      "outputs": [
        {
          "output_type": "stream",
          "name": "stdout",
          "text": [
            "[==================================================] 100.0% 31.6/31.6MB downloaded\n",
            "Performing 30 training epochs with 4 threads\n",
            "Epoch 0\n",
            "Epoch 1\n",
            "Epoch 2\n",
            "Epoch 3\n",
            "Epoch 4\n",
            "Epoch 5\n",
            "Epoch 6\n",
            "Epoch 7\n",
            "Epoch 8\n",
            "Epoch 9\n",
            "Epoch 10\n",
            "Epoch 11\n",
            "Epoch 12\n",
            "Epoch 13\n",
            "Epoch 14\n",
            "Epoch 15\n",
            "Epoch 16\n",
            "Epoch 17\n",
            "Epoch 18\n",
            "Epoch 19\n",
            "Epoch 20\n",
            "Epoch 21\n",
            "Epoch 22\n",
            "Epoch 23\n",
            "Epoch 24\n",
            "Epoch 25\n",
            "Epoch 26\n",
            "Epoch 27\n",
            "Epoch 28\n",
            "Epoch 29\n",
            "Embedding for the word \"king\":\n",
            " [-0.33693169  0.35755477  0.2271659   0.25193867 -0.51055203  0.04704746\n",
            " -0.78340649  0.11152477 -0.4476237  -0.27140098 -0.25341996  0.18521315\n",
            "  0.50284237 -0.14984127  0.44516362 -0.09720555 -0.43149187 -0.46995413\n",
            " -0.38460883 -0.40186645 -0.56423229 -0.63884784 -0.17144732 -0.20096128\n",
            "  0.32180382  0.07037735  0.30277415  0.40347113  0.29826175  0.56171734\n",
            " -0.13355348  0.40085304 -0.27766827  0.12876226 -0.33416095  0.29756077\n",
            "  0.42293458  0.387268    0.18023623  0.34016301  0.19832477 -0.39244495\n",
            "  0.1972519  -0.00531796  0.05750448  0.49629792  0.22482726 -0.52720493\n",
            " -0.7960994  -0.63253694]\n"
          ]
        }
      ]
    }
  ]
}