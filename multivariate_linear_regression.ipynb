{
  "cells": [
    {
      "cell_type": "markdown",
      "metadata": {
        "id": "view-in-github",
        "colab_type": "text"
      },
      "source": [
        "<a href=\"https://colab.research.google.com/github/sandeepkhcltech/aiml/blob/main/multivariate_linear_regression.ipynb\" target=\"_parent\"><img src=\"https://colab.research.google.com/assets/colab-badge.svg\" alt=\"Open In Colab\"/></a>"
      ]
    },
    {
      "cell_type": "markdown",
      "metadata": {
        "id": "HmRAJFfWX-8g"
      },
      "source": [
        "# python implementation - multivariate linear regression model that can predict the product sales based on the advertising budget allocated to different channels. The features are TV Budget ($),Radio Budget ($),Newspaper Budget ($) and the output is Sales (units)"
      ]
    },
    {
      "cell_type": "markdown",
      "metadata": {
        "id": "hzt0WSz8X-8i"
      },
      "source": [
        "# step 1: import the libraries"
      ]
    },
    {
      "cell_type": "code",
      "execution_count": 1,
      "metadata": {
        "id": "SUmOp65IX-8j"
      },
      "outputs": [],
      "source": [
        "import numpy as np\n",
        "import matplotlib.pyplot as plt\n",
        "import pandas as pd\n",
        "from sklearn.model_selection import train_test_split\n",
        "from sklearn.linear_model import LinearRegression\n",
        "from google.colab import drive\n"
      ]
    },
    {
      "cell_type": "markdown",
      "metadata": {
        "id": "o1WBnXrfX-8k"
      },
      "source": [
        "# step 2: reading the data and splitting it to input and output\n"
      ]
    },
    {
      "cell_type": "code",
      "execution_count": 9,
      "metadata": {
        "id": "NlpESxojX-8k"
      },
      "outputs": [],
      "source": [
        "\n",
        "# Step 1: Mount Google Drive\n",
        "#drive.mount('/content/drive')\n",
        "dataset = pd.read_csv('https://raw.githubusercontent.com/sandeepkhcltech/aiml/refs/heads/main/marketing_budget_sales.csv')\n",
        "#dataset = pd.read_csv('/content/drive/My Drive/marketing_budget_sales.csv')\n",
        "inputx = dataset.iloc[:, :-1].values\n",
        "outputy = dataset.iloc[:, 1].values"
      ]
    },
    {
      "cell_type": "code",
      "execution_count": 3,
      "metadata": {
        "id": "AY400iGxX-8k",
        "outputId": "f67d0b7e-8993-4500-a2fc-7ae11731093f",
        "colab": {
          "base_uri": "https://localhost:8080/"
        }
      },
      "outputs": [
        {
          "output_type": "stream",
          "name": "stdout",
          "text": [
            "   TV Budget ($)  Radio Budget ($)  Newspaper Budget ($)  Sales (units)\n",
            "0          230.1              37.8                  69.2           22.1\n",
            "1           44.5              39.3                  45.1           10.4\n",
            "2           17.2              45.9                  69.3            9.3\n",
            "3          151.5              41.3                  58.5           18.5\n",
            "4          180.8              10.8                  58.4           12.9\n",
            "5            8.7              48.9                  75.0            7.2\n",
            "6           57.5              32.8                  23.5           11.8\n",
            "7          120.2              19.6                  11.6           13.2\n",
            "8          144.1              16.0                  40.3           15.6\n",
            "9          111.6              12.6                  37.9           12.2\n"
          ]
        }
      ],
      "source": [
        "print(dataset)"
      ]
    },
    {
      "cell_type": "markdown",
      "metadata": {
        "id": "TimvK2b6X-8l"
      },
      "source": [
        "# step 3: select one thirds of the data for testing and two thirds for training"
      ]
    },
    {
      "cell_type": "code",
      "execution_count": 4,
      "metadata": {
        "id": "97zggCPQX-8m"
      },
      "outputs": [],
      "source": [
        "input_train, input_test, output_train, output_test = train_test_split(inputx, outputy, test_size = 1/4, random_state = 7)"
      ]
    },
    {
      "cell_type": "markdown",
      "metadata": {
        "id": "6Oxbc-J8X-8m"
      },
      "source": [
        "# step 4: selecting the Linear Regression model (common for univariate or multivariate)\n"
      ]
    },
    {
      "cell_type": "code",
      "execution_count": 5,
      "metadata": {
        "id": "72Rk7BpZX-8m",
        "outputId": "70011191-1430-4e74-c074-451ac77430c9",
        "colab": {
          "base_uri": "https://localhost:8080/"
        }
      },
      "outputs": [
        {
          "output_type": "stream",
          "name": "stdout",
          "text": [
            "\n",
            "The parameters of the model are\n",
            "\n",
            " {'copy_X': True, 'fit_intercept': True, 'n_jobs': None, 'positive': False}\n",
            "\n",
            "The model we are using is  LinearRegression()\n"
          ]
        }
      ],
      "source": [
        "model = LinearRegression()\n",
        "print(\"\\nThe parameters of the model are\\n\\n\",model.get_params())\n",
        "#print(model.set_params())\n",
        "print(\"\\nThe model we are using is \", model.fit(input_train, output_train))"
      ]
    },
    {
      "cell_type": "markdown",
      "metadata": {
        "id": "UIn-cOyuX-8n"
      },
      "source": [
        "# step 5: testing or model prediction using testinput"
      ]
    },
    {
      "cell_type": "code",
      "execution_count": 6,
      "metadata": {
        "id": "jfR4MjIJX-8n",
        "outputId": "ed1fe25b-03e3-4b52-d127-9873e2338fd1",
        "colab": {
          "base_uri": "https://localhost:8080/"
        }
      },
      "outputs": [
        {
          "name": "stdout",
          "output_type": "stream",
          "text": [
            "\n",
            "Enter TV Budget ($): 10\n",
            "Enter Radio Budget ($): 20\n",
            "Enter Newspaper Budget ($): 30\n",
            "\n",
            "The input advertising budgets are: [[10.0, 20.0, 30.0]]\n",
            "The predicted sales (units) are: 20.00000000000001\n",
            "\n",
            "Can I proceed\n",
            "\n"
          ]
        }
      ],
      "source": [
        "\n",
        "# Take user input\n",
        "tv = float(input(\"\\nEnter TV Budget ($): \"))\n",
        "radio = float(input(\"Enter Radio Budget ($): \"))\n",
        "newspaper = float(input(\"Enter Newspaper Budget ($): \"))\n",
        "\n",
        "testinput = [[tv, radio, newspaper]]\n",
        "predicted_output = model.predict(testinput)\n",
        "\n",
        "# Display results\n",
        "print('\\nThe input advertising budgets are:', testinput)\n",
        "print('The predicted sales (units) are:', predicted_output[0])\n",
        "\n",
        "yes = input(\"\\nCan I proceed\\n\")\n"
      ]
    },
    {
      "cell_type": "markdown",
      "metadata": {
        "id": "cENiNiVLX-8n"
      },
      "source": [
        "# step 6: Printing the testing results"
      ]
    },
    {
      "cell_type": "code",
      "execution_count": 7,
      "metadata": {
        "id": "gvRsmrkpX-8n",
        "outputId": "02ed7c83-d806-42ae-c70b-b34d01f0e39a",
        "colab": {
          "base_uri": "https://localhost:8080/"
        }
      },
      "outputs": [
        {
          "output_type": "stream",
          "name": "stdout",
          "text": [
            "\n",
            "The test input  is as follows \n",
            "\n",
            "[[144.1  16.   40.3]\n",
            " [  8.7  48.9  75. ]\n",
            " [230.1  37.8  69.2]]\n",
            "\n",
            "The output  for the test input is as follows \n",
            "\n",
            "[16.  48.9 37.8]\n"
          ]
        }
      ],
      "source": [
        "print(\"\\nThe test input  is as follows \\n\")\n",
        "print(input_test)\n",
        "# model predicting the Test set results\n",
        "predicted_output = model.predict(input_test)\n",
        "print(\"\\nThe output  for the test input is as follows \\n\")\n",
        "print(predicted_output)"
      ]
    },
    {
      "cell_type": "code",
      "execution_count": 7,
      "metadata": {
        "id": "X5pAP7z5X-8o"
      },
      "outputs": [],
      "source": []
    }
  ],
  "metadata": {
    "kernelspec": {
      "display_name": "Python 3 (ipykernel)",
      "language": "python",
      "name": "python3"
    },
    "language_info": {
      "codemirror_mode": {
        "name": "ipython",
        "version": 3
      },
      "file_extension": ".py",
      "mimetype": "text/x-python",
      "name": "python",
      "nbconvert_exporter": "python",
      "pygments_lexer": "ipython3",
      "version": "3.10.13"
    },
    "colab": {
      "provenance": [],
      "include_colab_link": true
    }
  },
  "nbformat": 4,
  "nbformat_minor": 0
}